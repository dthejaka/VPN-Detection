{
 "cells": [
  {
   "cell_type": "code",
   "execution_count": 1,
   "metadata": {},
   "outputs": [],
   "source": [
    "import findspark\n",
    "from pyspark.sql import SparkSession"
   ]
  },
  {
   "cell_type": "code",
   "execution_count": 2,
   "metadata": {},
   "outputs": [],
   "source": [
    "findspark.init()"
   ]
  },
  {
   "cell_type": "code",
   "execution_count": 3,
   "metadata": {},
   "outputs": [
    {
     "data": {
      "text/html": [
       "\n",
       "            <div>\n",
       "                <p><b>SparkSession - in-memory</b></p>\n",
       "                \n",
       "        <div>\n",
       "            <p><b>SparkContext</b></p>\n",
       "\n",
       "            <p><a href=\"http://LAPTOP-OJFGVVES:4040\">Spark UI</a></p>\n",
       "\n",
       "            <dl>\n",
       "              <dt>Version</dt>\n",
       "                <dd><code>v3.1.2</code></dd>\n",
       "              <dt>Master</dt>\n",
       "                <dd><code>local[*]</code></dd>\n",
       "              <dt>AppName</dt>\n",
       "                <dd><code>Practice</code></dd>\n",
       "            </dl>\n",
       "        </div>\n",
       "        \n",
       "            </div>\n",
       "        "
      ],
      "text/plain": [
       "<pyspark.sql.session.SparkSession at 0x25a60abf5e0>"
      ]
     },
     "execution_count": 3,
     "metadata": {},
     "output_type": "execute_result"
    }
   ],
   "source": [
    "spark = SparkSession.builder.appName('Practice').getOrCreate()\n",
    "spark"
   ]
  },
  {
   "cell_type": "code",
   "execution_count": 4,
   "metadata": {},
   "outputs": [],
   "source": [
    "df = spark.read.csv('daily_usage.csv', header = True, inferSchema = True)"
   ]
  },
  {
   "cell_type": "code",
   "execution_count": 5,
   "metadata": {},
   "outputs": [
    {
     "name": "stdout",
     "output_type": "stream",
     "text": [
      "+-----------+-------------------+----------------+--------------------+----+-----+---+---------+----+--------+\n",
      "|     msisdn|          date_time|        protocol|            category|year|month|day|    usage|  id|batch_id|\n",
      "+-----------+-------------------+----------------+--------------------+----+-----+---+---------+----+--------+\n",
      "|94787147047|2022-03-28 00:00:00|         outlook|Computers & Internet|2022|    3| 28|  1672866|4091|20220402|\n",
      "|94787147047|2022-03-27 00:00:00|         youtube|          Online Ads|2022|    3| 27|   118705|4092|20220402|\n",
      "|94721847601|2022-03-27 00:00:00|        linkedin|             unknown|2022|    3| 27|   174218|4093|20220402|\n",
      "|94787147047|2022-03-31 00:00:00|google_translate|             unknown|2022|    3| 31|     5416|4094|20220402|\n",
      "|94784000119|2022-03-30 00:00:00|      google_gen|      Search Engines|2022|    3| 30|    30627|4095|20220402|\n",
      "|94784000119|2022-03-26 00:00:00|  facebook_video|             unknown|2022|    3| 26|205183463|4096|20220402|\n",
      "|94721847601|2022-03-27 00:00:00|         gstatic|Computers & Internet|2022|    3| 27|   120698|4097|20220402|\n",
      "|94787147047|2022-03-27 00:00:00|  rubiconproject|             unknown|2022|    3| 27|     6882|4098|20220402|\n",
      "|94784000118|2022-03-31 00:00:00|      google_api|Computers & Internet|2022|    3| 31|   134050|4099|20220402|\n",
      "|94784000118|2022-03-30 00:00:00|  android_cnxmgr|             unknown|2022|    3| 30|     8505|4100|20220402|\n",
      "|94787147047|2022-03-30 00:00:00|     google_tags|Trackers & Analytics|2022|    3| 30|   137578|4101|20220402|\n",
      "|94787147047|2022-03-30 00:00:00|      google_ads|          Online Ads|2022|    3| 30|   367476|4102|20220402|\n",
      "|94784000119|2022-03-28 00:00:00|      ironsource|             unknown|2022|    3| 28|    52497|4103|20220402|\n",
      "|94787147047|2022-03-27 00:00:00|      amazon_aws|             unknown|2022|    3| 27|   528222|4104|20220402|\n",
      "|94721847601|2022-03-28 00:00:00|           youku|                NULL|2022|    3| 28|     1580|4105|20220402|\n",
      "|94784000119|2022-03-27 00:00:00| google_accounts|             unknown|2022|    3| 27|   126595|4106|20220402|\n",
      "|94784000118|2022-03-28 00:00:00|             gcm|Computers & Internet|2022|    3| 28|    17149|4107|20220402|\n",
      "|94784000119|2022-03-27 00:00:00|         verizon|                NULL|2022|    3| 27|      525|4108|20220402|\n",
      "|94787147047|2022-03-29 00:00:00|         youtube|      Movies & Video|2022|    3| 29|  1264289|4109|20220402|\n",
      "|94787147047|2022-03-30 00:00:00|          amazon|             unknown|2022|    3| 30|    37596|4110|20220402|\n",
      "+-----------+-------------------+----------------+--------------------+----+-----+---+---------+----+--------+\n",
      "only showing top 20 rows\n",
      "\n"
     ]
    }
   ],
   "source": [
    "df.show()"
   ]
  },
  {
   "cell_type": "code",
   "execution_count": 6,
   "metadata": {},
   "outputs": [],
   "source": [
    "df1 = df.filter(df.category == 'unknown')"
   ]
  },
  {
   "cell_type": "code",
   "execution_count": 7,
   "metadata": {},
   "outputs": [
    {
     "name": "stdout",
     "output_type": "stream",
     "text": [
      "+-----------+-------------------+--------------+--------+----+-----+---+----------+------+--------+\n",
      "|     msisdn|          date_time|      protocol|category|year|month|day|     usage|    id|batch_id|\n",
      "+-----------+-------------------+--------------+--------+----+-----+---+----------+------+--------+\n",
      "|94784000119|2022-03-26 00:00:00|facebook_video| unknown|2022|    3| 26| 205183463|  4096|20220402|\n",
      "|94784000240|2022-06-05 00:00:00|      whatsapp| unknown|2022|    6|  5| 161434511|112076|20220605|\n",
      "|94784000117|2022-06-06 00:00:00|       youtube| unknown|2022|    6|  6|1376248150|112144|20220606|\n",
      "|94721847012|2022-06-06 00:00:00|       youtube| unknown|2022|    6|  6|1030656077|112235|20220606|\n",
      "|94784000240|2022-06-07 00:00:00|      whatsapp| unknown|2022|    6|  7| 284586609|112420|20220607|\n",
      "|94784000240|2022-06-08 00:00:00|        tiktok| unknown|2022|    6|  8| 109385648|112639|20220608|\n",
      "|94784000117|2022-06-09 00:00:00|       youtube| unknown|2022|    6|  9| 683568275|112708|20220609|\n",
      "|94784000117|2022-06-09 00:00:00|   google_play| unknown|2022|    6|  9| 141881766|112809|20220609|\n",
      "|94784000240|2022-06-10 00:00:00|        tiktok| unknown|2022|    6| 10| 134988397|112838|20220610|\n",
      "|94784000117|2022-06-10 00:00:00|   google_play| unknown|2022|    6| 10| 149591381|112873|20220610|\n",
      "|94784000240|2022-06-11 00:00:00|      whatsapp| unknown|2022|    6| 11| 442306842|112962|20220611|\n",
      "|94784000240|2022-06-11 00:00:00|        isakmp| unknown|2022|    6| 11| 483033896|112985|20220611|\n",
      "|94784000240|2022-06-11 00:00:00|        tiktok| unknown|2022|    6| 11| 386766048|112996|20220611|\n",
      "|94784000240|2022-06-12 00:00:00|        tiktok| unknown|2022|    6| 12| 257730065|113064|20220612|\n",
      "|94784000240|2022-06-13 00:00:00|      whatsapp| unknown|2022|    6| 13| 263592587|113092|20220613|\n",
      "|94784000240|2022-06-14 00:00:00|      whatsapp| unknown|2022|    6| 14| 116918614|113149|20220614|\n",
      "|94784000240|2022-06-14 00:00:00|        tiktok| unknown|2022|    6| 14| 153270553|113180|20220614|\n",
      "|94784000240|2022-06-21 00:00:00|        tiktok| unknown|2022|    6| 21| 334669039|113469|20220621|\n",
      "|94784000240|2022-06-22 00:00:00|        tiktok| unknown|2022|    6| 22| 200085723|113581|20220622|\n",
      "|94784000117|2022-06-23 00:00:00|      ms_teams| unknown|2022|    6| 23| 295779887|113633|20220623|\n",
      "+-----------+-------------------+--------------+--------+----+-----+---+----------+------+--------+\n",
      "only showing top 20 rows\n",
      "\n"
     ]
    }
   ],
   "source": [
    "df1_high_usage = df1.filter(df1.usage/1073741824 >= 0.1)\n",
    "df1_high_usage.show()"
   ]
  },
  {
   "cell_type": "code",
   "execution_count": 8,
   "metadata": {},
   "outputs": [
    {
     "name": "stdout",
     "output_type": "stream",
     "text": [
      "+-----------+-------------------+--------+--------+----+-----+---+----------+------+--------+\n",
      "|     msisdn|          date_time|protocol|category|year|month|day|     usage|    id|batch_id|\n",
      "+-----------+-------------------+--------+--------+----+-----+---+----------+------+--------+\n",
      "|94784000117|2022-06-06 00:00:00| youtube| unknown|2022|    6|  6|1376248150|112144|20220606|\n",
      "|94721847012|2022-06-06 00:00:00| youtube| unknown|2022|    6|  6|1030656077|112235|20220606|\n",
      "|94784000117|2022-06-09 00:00:00| youtube| unknown|2022|    6|  9| 683568275|112708|20220609|\n",
      "|94784000117|2022-06-23 00:00:00| youtube| unknown|2022|    6| 23| 716441446|113721|20220623|\n",
      "|94784000117|2022-06-27 00:00:00| youtube| unknown|2022|    6| 27|1057565530|114288|20220627|\n",
      "|94784000117|2022-06-28 00:00:00| youtube| unknown|2022|    6| 28|1313375033|114484|20220628|\n",
      "|94784000117|2022-07-19 00:00:00| youtube| unknown|2022|    7| 19|1239326386|118048|20220719|\n",
      "|94784000119|2022-07-28 00:00:00|ms_teams| unknown|2022|    7| 28| 812980026|120198|20220728|\n",
      "|94784000117|2022-08-17 00:00:00| youtube| unknown|2022|    8| 17|1856594082|125573|20220817|\n",
      "|94784000117|2022-08-18 00:00:00| youtube| unknown|2022|    8| 18|1022874499|126347|20220818|\n",
      "+-----------+-------------------+--------+--------+----+-----+---+----------+------+--------+\n",
      "\n"
     ]
    }
   ],
   "source": [
    "df1_high_usage2 = df1.filter(df1.usage/1073741824 >= 0.5)\n",
    "df1_high_usage2.show()"
   ]
  },
  {
   "cell_type": "code",
   "execution_count": 31,
   "metadata": {},
   "outputs": [],
   "source": [
    "df_unknown_https = df1.filter(df1.protocol == 'https')"
   ]
  },
  {
   "cell_type": "code",
   "execution_count": 36,
   "metadata": {},
   "outputs": [],
   "source": [
    "df_unknown_https_high_usage = df_unknown_https.filter(df_unknown_https.usage/1073741824 >= 0.01)"
   ]
  },
  {
   "cell_type": "code",
   "execution_count": 37,
   "metadata": {},
   "outputs": [
    {
     "name": "stdout",
     "output_type": "stream",
     "text": [
      "+-----------+-------------------+--------+--------+----+-----+---+--------+------+--------+\n",
      "|     msisdn|          date_time|protocol|category|year|month|day|   usage|    id|batch_id|\n",
      "+-----------+-------------------+--------+--------+----+-----+---+--------+------+--------+\n",
      "|94784000117|2022-06-08 00:00:00|   https| unknown|2022|    6|  8|28340767|112564|20220608|\n",
      "|94784000117|2022-06-24 00:00:00|   https| unknown|2022|    6| 24|46551015|113880|20220624|\n",
      "|94784000240|2022-06-27 00:00:00|   https| unknown|2022|    6| 27|21952423|114291|20220627|\n",
      "|94784000117|2022-06-28 00:00:00|   https| unknown|2022|    6| 28|77943719|114493|20220628|\n",
      "|94784000119|2022-07-01 00:00:00|   https| unknown|2022|    7|  1|32269598|114862|20220701|\n",
      "|94784000117|2022-07-04 00:00:00|   https| unknown|2022|    7|  4|36432009|115235|20220704|\n",
      "|94784000117|2022-07-07 00:00:00|   https| unknown|2022|    7|  7|28745634|115840|20220707|\n",
      "|94784000119|2022-07-07 00:00:00|   https| unknown|2022|    7|  7|14127436|115871|20220707|\n",
      "|94784000117|2022-07-13 00:00:00|   https| unknown|2022|    7| 13|11046988|116576|20220713|\n",
      "+-----------+-------------------+--------+--------+----+-----+---+--------+------+--------+\n",
      "\n"
     ]
    }
   ],
   "source": [
    "df_unknown_https_high_usage.show()"
   ]
  },
  {
   "cell_type": "code",
   "execution_count": null,
   "metadata": {},
   "outputs": [],
   "source": [
    "#1073741824"
   ]
  },
  {
   "cell_type": "code",
   "execution_count": 25,
   "metadata": {},
   "outputs": [
    {
     "name": "stdout",
     "output_type": "stream",
     "text": [
      "+-----------+-------------------+--------+--------+----+-----+---+-----+----+--------+\n",
      "|     msisdn|          date_time|protocol|category|year|month|day|usage|  id|batch_id|\n",
      "+-----------+-------------------+--------+--------+----+-----+---+-----+----+--------+\n",
      "|94721847601|2022-03-27 00:00:00|   https| unknown|2022|    3| 27|18680|4624|20220402|\n",
      "+-----------+-------------------+--------+--------+----+-----+---+-----+----+--------+\n",
      "\n"
     ]
    }
   ],
   "source": [
    "df_unknown_https.filter(df_unknown_https.msisdn == 94721847601).show()"
   ]
  },
  {
   "cell_type": "code",
   "execution_count": null,
   "metadata": {},
   "outputs": [],
   "source": []
  }
 ],
 "metadata": {
  "kernelspec": {
   "display_name": "Python 3.9.12 ('base')",
   "language": "python",
   "name": "python3"
  },
  "language_info": {
   "codemirror_mode": {
    "name": "ipython",
    "version": 3
   },
   "file_extension": ".py",
   "mimetype": "text/x-python",
   "name": "python",
   "nbconvert_exporter": "python",
   "pygments_lexer": "ipython3",
   "version": "3.9.12"
  },
  "orig_nbformat": 4,
  "vscode": {
   "interpreter": {
    "hash": "a90aeebcf29d64a654773811cc170cb25061cb2498f10ac689db374c7bf325de"
   }
  }
 },
 "nbformat": 4,
 "nbformat_minor": 2
}
