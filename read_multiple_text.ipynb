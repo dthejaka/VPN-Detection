{
 "cells": [
  {
   "cell_type": "code",
   "execution_count": 1,
   "metadata": {},
   "outputs": [],
   "source": [
    "import os\n",
    "import pandas as pd"
   ]
  },
  {
   "cell_type": "code",
   "execution_count": 2,
   "metadata": {},
   "outputs": [],
   "source": [
    "# Define the location of the directory\n",
    "path =r\"D:/Vizuamatix/Network Traffic/DGA\"\n",
    "\n",
    "# Change the directory\n",
    "os.chdir(path)"
   ]
  },
  {
   "cell_type": "code",
   "execution_count": 3,
   "metadata": {},
   "outputs": [
    {
     "data": {
      "text/plain": [
       "['1.csv',\n",
       " '2.csv',\n",
       " '3.csv',\n",
       " '4.csv',\n",
       " '5.csv',\n",
       " '6.csv',\n",
       " '7.csv',\n",
       " 'domain_generation_algorithms-master',\n",
       " 'example_domains.txt',\n",
       " 'example_domains2.txt',\n",
       " 'example_domains3.txt',\n",
       " 'example_domains4.txt',\n",
       " 'example_domains5.txt',\n",
       " 'example_domains6.txt',\n",
       " 'example_domains7.txt',\n",
       " 'top-1m',\n",
       " 'top-1m(1)']"
      ]
     },
     "execution_count": 3,
     "metadata": {},
     "output_type": "execute_result"
    }
   ],
   "source": [
    "os.listdir()\n"
   ]
  },
  {
   "cell_type": "code",
   "execution_count": 16,
   "metadata": {},
   "outputs": [],
   "source": [
    "i = 1"
   ]
  },
  {
   "cell_type": "code",
   "execution_count": 19,
   "metadata": {},
   "outputs": [],
   "source": [
    "\n",
    "for file in os.listdir():\n",
    "    \n",
    "    if file.endswith('.txt'):\n",
    "      # Create the filepath of particular file\n",
    "        file_path =f\"{path}/{file}\"\n",
    "\n",
    "        read_file = pd.read_csv (file_path)\n",
    "        read_file = read_file.to_csv(f\"{path}/{i}.csv\", index=None)\n",
    "        i = i +1"
   ]
  },
  {
   "cell_type": "code",
   "execution_count": 4,
   "metadata": {},
   "outputs": [],
   "source": [
    "import glob\n",
    "import numpy as np"
   ]
  },
  {
   "cell_type": "code",
   "execution_count": 5,
   "metadata": {},
   "outputs": [],
   "source": [
    "\n",
    "csv_files = glob.glob(path + \"/*.csv\")\n",
    "n = len(csv_files)\n",
    "xls_no = np.arange(0, n)"
   ]
  },
  {
   "cell_type": "code",
   "execution_count": 6,
   "metadata": {},
   "outputs": [
    {
     "data": {
      "text/plain": [
       "['D:/Vizuamatix/Network Traffic/DGA\\\\1.csv',\n",
       " 'D:/Vizuamatix/Network Traffic/DGA\\\\2.csv',\n",
       " 'D:/Vizuamatix/Network Traffic/DGA\\\\3.csv',\n",
       " 'D:/Vizuamatix/Network Traffic/DGA\\\\4.csv',\n",
       " 'D:/Vizuamatix/Network Traffic/DGA\\\\5.csv',\n",
       " 'D:/Vizuamatix/Network Traffic/DGA\\\\6.csv',\n",
       " 'D:/Vizuamatix/Network Traffic/DGA\\\\7.csv']"
      ]
     },
     "execution_count": 6,
     "metadata": {},
     "output_type": "execute_result"
    }
   ],
   "source": [
    "csv_files"
   ]
  },
  {
   "cell_type": "code",
   "execution_count": 7,
   "metadata": {},
   "outputs": [],
   "source": [
    "df_list = []"
   ]
  },
  {
   "cell_type": "code",
   "execution_count": 8,
   "metadata": {},
   "outputs": [],
   "source": [
    "for i in xls_no:\n",
    "    df = pd.read_csv(csv_files[i])\n",
    "    \n",
    "    df_list.append(df)"
   ]
  },
  {
   "cell_type": "code",
   "execution_count": null,
   "metadata": {},
   "outputs": [],
   "source": []
  }
 ],
 "metadata": {
  "kernelspec": {
   "display_name": "Python 3.9.12 ('base')",
   "language": "python",
   "name": "python3"
  },
  "language_info": {
   "codemirror_mode": {
    "name": "ipython",
    "version": 3
   },
   "file_extension": ".py",
   "mimetype": "text/x-python",
   "name": "python",
   "nbconvert_exporter": "python",
   "pygments_lexer": "ipython3",
   "version": "3.9.12"
  },
  "orig_nbformat": 4,
  "vscode": {
   "interpreter": {
    "hash": "a90aeebcf29d64a654773811cc170cb25061cb2498f10ac689db374c7bf325de"
   }
  }
 },
 "nbformat": 4,
 "nbformat_minor": 2
}
